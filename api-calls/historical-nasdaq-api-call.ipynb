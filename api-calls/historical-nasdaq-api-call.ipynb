{
 "cells": [
  {
   "cell_type": "code",
   "execution_count": null,
   "metadata": {},
   "outputs": [],
   "source": [
    "import os\n",
    "from sys import path\n",
    "import pandas as pd\n",
    "from sqlalchemy import create_engine\n",
    "path.append('python-files')\n",
    "from nasdaq_api_call import wiki_api_call, zacks_fc_api_call\n",
    "pd.set_option('display.max_columns', None)\n"
   ]
  },
  {
   "cell_type": "code",
   "execution_count": null,
   "metadata": {},
   "outputs": [],
   "source": [
    "#Read source\n",
    "source_data_path= os.path.join('data', 'post_Y2K_tickers_for_webscraping.csv')\n",
    "source_data = pd.read_csv(source_data_path)\n",
    "\n",
    "#format date for functions\n",
    "def format_date_col_string(col):\n",
    "    source_data[col] = [str(d)[:10] for d in source_data[col]]\n",
    "\n",
    "format_date_col_string('start_date')\n",
    "format_date_col_string('end_date')\n",
    "\n",
    "print(source_data.dtypes)"
   ]
  },
  {
   "cell_type": "code",
   "execution_count": null,
   "metadata": {},
   "outputs": [],
   "source": [
    "#Create DB Connection\n",
    "conn = os.getenv('STOCK_DB_CONN')\n",
    "engine = create_engine(conn)\n",
    "\n",
    "zipper = list(zip(source_data['ticker'], source_data['start_date'], source_data['end_date']))"
   ]
  },
  {
   "cell_type": "code",
   "execution_count": null,
   "metadata": {},
   "outputs": [],
   "source": [
    "\n",
    "\n",
    "#Pull WIKI historical daily prices\n",
    "for t, s, e in zipper:\n",
    "    df = wiki_api_call(t, s, e)\n",
    "    if len(df) > 0:\n",
    "        df.to_sql(name = 'wiki_prices', con = conn, schema = 'NASDAQ', if_exists= 'append', index = False, method = 'multi')"
   ]
  },
  {
   "cell_type": "code",
   "execution_count": null,
   "metadata": {},
   "outputs": [],
   "source": [
    "#columns to include in response from ZACKS/FC api call\n",
    "zacks_columns = [\n",
    "    'm_ticker', #primary_key\n",
    "    'ticker', 'comp_name', 'currency_code', 'per_end_date', 'per_fisc_year', 'per_cal_year', 'filing_date',\n",
    "    'zacks_sector_code', 'zacks_x_ind_code', \n",
    "    'bus_city', 'bus_state_name', 'bus_post_code', 'country_name',\n",
    "    'tot_revnu', #millions\n",
    "    'gross_profit', #millions\n",
    "    'tot_oper_exp', #millions\n",
    "    'basic_net_eps', \n",
    "    'comm_shares_out', 'comm_stock_div_paid',\n",
    "    'incr_decr_cash', \n",
    "]"
   ]
  },
  {
   "cell_type": "code",
   "execution_count": null,
   "metadata": {},
   "outputs": [],
   "source": [
    "\n",
    "for t, s, e in zipper:\n",
    "    df = zacks_fc_api_call(t, s, e, columns = zacks_columns)\n",
    "    df = df[zacks_columns]\n",
    "    if len(df) > 0:\n",
    "        df.to_sql(name = 'zacks_fc', con = conn, schema = 'NASDAQ', if_exists= 'append', index = False, method = 'multi')\n",
    "        "
   ]
  }
 ],
 "metadata": {
  "kernelspec": {
   "display_name": "post-y2k-stock-performance",
   "language": "python",
   "name": "python3"
  },
  "language_info": {
   "codemirror_mode": {
    "name": "ipython",
    "version": 3
   },
   "file_extension": ".py",
   "mimetype": "text/x-python",
   "name": "python",
   "nbconvert_exporter": "python",
   "pygments_lexer": "ipython3",
   "version": "3.10.11"
  }
 },
 "nbformat": 4,
 "nbformat_minor": 2
}
