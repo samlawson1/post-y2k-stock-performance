{
 "cells": [
  {
   "cell_type": "code",
   "execution_count": null,
   "metadata": {},
   "outputs": [],
   "source": [
    "import nasdaqdatalink\n",
    "import os\n",
    "import pandas as pd"
   ]
  },
  {
   "cell_type": "code",
   "execution_count": null,
   "metadata": {},
   "outputs": [],
   "source": [
    "api_key = os.environ['NASDAQ_DATA_LINK_API_KEY']\n"
   ]
  },
  {
   "cell_type": "code",
   "execution_count": null,
   "metadata": {},
   "outputs": [],
   "source": [
    "data = nasdaqdatalink.get_table('WIKI/PRICES', \n",
    "                                #qopts = { 'columns': ['compnumber', 'ticker', 'date', 'open', 'close'] }, \n",
    "                                ticker = ['AAPL'], \n",
    "                                date = { 'gte': '2000-01-01', 'lte': '2000-12-31' },\n",
    "                                paginate = True)\n"
   ]
  },
  {
   "cell_type": "code",
   "execution_count": null,
   "metadata": {},
   "outputs": [],
   "source": [
    "data2 = nasdaqdatalink.get_table('MER/F1',\n",
    "                                 ticker = 'AAPL',\n",
    "                                 #qopts={\"columns\":[\"compnumber\", \"ticker\"]}, \n",
    "                                 reportdate={'gte':'2000-01-01', 'lte':'2000-12-31'},\n",
    "                                 paginate=True\n",
    "                                 )\n",
    "\n",
    "\n",
    "\n"
   ]
  },
  {
   "cell_type": "code",
   "execution_count": null,
   "metadata": {},
   "outputs": [],
   "source": [
    "data"
   ]
  },
  {
   "cell_type": "code",
   "execution_count": null,
   "metadata": {},
   "outputs": [],
   "source": [
    "data2 = nasdaqdatalink.get_table('ZACKS/FC',  ticker=['AAPL'], \n",
    "                         per_end_date={'gte': '2015-01-01'}\n",
    "                        #  qopts={'columns':['ticker', 'per_end_date']}\n",
    "                         )\n"
   ]
  },
  {
   "cell_type": "code",
   "execution_count": null,
   "metadata": {},
   "outputs": [],
   "source": [
    "pd.set_option('display.max_columns', None)\n",
    "data2.head()"
   ]
  },
  {
   "cell_type": "code",
   "execution_count": null,
   "metadata": {},
   "outputs": [],
   "source": []
  }
 ],
 "metadata": {
  "kernelspec": {
   "display_name": "post-y2k-stock-performance",
   "language": "python",
   "name": "python3"
  },
  "language_info": {
   "codemirror_mode": {
    "name": "ipython",
    "version": 3
   },
   "file_extension": ".py",
   "mimetype": "text/x-python",
   "name": "python",
   "nbconvert_exporter": "python",
   "pygments_lexer": "ipython3",
   "version": "3.10.11"
  }
 },
 "nbformat": 4,
 "nbformat_minor": 2
}
