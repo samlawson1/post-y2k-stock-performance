{
 "cells": [
  {
   "cell_type": "code",
   "execution_count": 112,
   "metadata": {},
   "outputs": [],
   "source": [
    "import requests\n",
    "from bs4 import BeautifulSoup\n",
    "import pandas as pd\n",
    "from sqlalchemy import create_engine\n",
    "import os\n"
   ]
  },
  {
   "cell_type": "markdown",
   "metadata": {},
   "source": [
    "#### Using [Wikipedia to get current list of S&P 500 companies](https://en.wikipedia.org/wiki/List_of_S%26P_500_companies)"
   ]
  },
  {
   "cell_type": "code",
   "execution_count": 3,
   "metadata": {},
   "outputs": [
    {
     "name": "stdout",
     "output_type": "stream",
     "text": [
      "<Response [200]>\n"
     ]
    }
   ],
   "source": [
    "def get_response():\n",
    "\n",
    "    return(response)\n"
   ]
  },
  {
   "cell_type": "code",
   "execution_count": 43,
   "metadata": {},
   "outputs": [],
   "source": [
    "def get_content():\n",
    "    wiki_url = r'https://en.wikipedia.org/wiki/List_of_S%26P_500_companies'\n",
    "    response = requests.get(wiki_url)\n",
    "    soup = BeautifulSoup(response.content)\n",
    "    return(soup)\n"
   ]
  },
  {
   "cell_type": "code",
   "execution_count": 56,
   "metadata": {},
   "outputs": [],
   "source": [
    "s = get_content()"
   ]
  },
  {
   "cell_type": "code",
   "execution_count": 59,
   "metadata": {},
   "outputs": [],
   "source": [
    "def get_constituents(soup, name):\n",
    "    table = soup.find('table', id=name)\n",
    "    header = []\n",
    "    rows = []\n",
    "    for i, row in enumerate(table.find_all('tr')):\n",
    "        if i == 0:\n",
    "            header = [el.text.strip() for el in row.find_all('th')]\n",
    "        else:\n",
    "            rows.append([el.text.strip() for el in row.find_all('td')])\n",
    "    \n",
    "    df = pd.DataFrame(rows, columns = header)\n",
    "    return(df)\n"
   ]
  },
  {
   "cell_type": "code",
   "execution_count": 98,
   "metadata": {},
   "outputs": [
    {
     "data": {
      "text/html": [
       "<div>\n",
       "<style scoped>\n",
       "    .dataframe tbody tr th:only-of-type {\n",
       "        vertical-align: middle;\n",
       "    }\n",
       "\n",
       "    .dataframe tbody tr th {\n",
       "        vertical-align: top;\n",
       "    }\n",
       "\n",
       "    .dataframe thead th {\n",
       "        text-align: right;\n",
       "    }\n",
       "</style>\n",
       "<table border=\"1\" class=\"dataframe\">\n",
       "  <thead>\n",
       "    <tr style=\"text-align: right;\">\n",
       "      <th></th>\n",
       "      <th>ticker</th>\n",
       "      <th>date_added</th>\n",
       "      <th>currently_listed</th>\n",
       "    </tr>\n",
       "  </thead>\n",
       "  <tbody>\n",
       "    <tr>\n",
       "      <th>0</th>\n",
       "      <td>A</td>\n",
       "      <td>2000-06-05</td>\n",
       "      <td>True</td>\n",
       "    </tr>\n",
       "    <tr>\n",
       "      <th>1</th>\n",
       "      <td>AAL</td>\n",
       "      <td>2015-03-23</td>\n",
       "      <td>True</td>\n",
       "    </tr>\n",
       "    <tr>\n",
       "      <th>2</th>\n",
       "      <td>AAPL</td>\n",
       "      <td>1982-11-30</td>\n",
       "      <td>True</td>\n",
       "    </tr>\n",
       "    <tr>\n",
       "      <th>3</th>\n",
       "      <td>ABBV</td>\n",
       "      <td>2012-12-31</td>\n",
       "      <td>True</td>\n",
       "    </tr>\n",
       "    <tr>\n",
       "      <th>4</th>\n",
       "      <td>ABNB</td>\n",
       "      <td>2023-09-18</td>\n",
       "      <td>True</td>\n",
       "    </tr>\n",
       "  </tbody>\n",
       "</table>\n",
       "</div>"
      ],
      "text/plain": [
       "  ticker date_added  currently_listed\n",
       "0      A 2000-06-05              True\n",
       "1    AAL 2015-03-23              True\n",
       "2   AAPL 1982-11-30              True\n",
       "3   ABBV 2012-12-31              True\n",
       "4   ABNB 2023-09-18              True"
      ]
     },
     "execution_count": 98,
     "metadata": {},
     "output_type": "execute_result"
    }
   ],
   "source": [
    "constituents = get_constituents(soup, 'constituents')\n",
    "base = constituents[['Symbol', 'Date added']].rename(columns ={ 'Symbol':'ticker', 'Date added':'date_added'}).sort_values(by = 'ticker').reset_index(drop = True)\n",
    "base['date_added'] = pd.to_datetime(base['date_added'])\n",
    "base['currently_listed'] = True\n",
    "base.head()\n"
   ]
  },
  {
   "cell_type": "code",
   "execution_count": 99,
   "metadata": {},
   "outputs": [],
   "source": [
    "rows = []\n",
    "change_html = s.find('table', id='changes')\n",
    "for i, row in enumerate(change_html.find_all('tr')):\n",
    "    if i > 1:\n",
    "        rows.append([el.text.strip() for el in row.find_all('td')])\n",
    "\n",
    "df = pd.DataFrame(rows, columns = ['Date', 'ADD_Symbol', 'ADD_Security', 'RMV_Symbol', 'RMV_Security', 'Reason'])       \n",
    "df['Date'] = pd.to_datetime(df['Date'])\n",
    "df = df.replace('', None)\n",
    "\n",
    "add_dates = df.loc[df['ADD_Symbol'].isnull() == False][['Date', 'ADD_Symbol']].\\\n",
    "    rename(columns = {'ADD_Symbol':'ticker', 'Date':'date_added'})\n",
    "rmv_dates = df.loc[df['RMV_Symbol'].isnull() == False][['Date', 'RMV_Symbol']].\\\n",
    "    rename(columns = {'RMV_Symbol':'ticker', 'Date':'date_removed'})"
   ]
  },
  {
   "cell_type": "code",
   "execution_count": 103,
   "metadata": {},
   "outputs": [
    {
     "data": {
      "text/html": [
       "<div>\n",
       "<style scoped>\n",
       "    .dataframe tbody tr th:only-of-type {\n",
       "        vertical-align: middle;\n",
       "    }\n",
       "\n",
       "    .dataframe tbody tr th {\n",
       "        vertical-align: top;\n",
       "    }\n",
       "\n",
       "    .dataframe thead th {\n",
       "        text-align: right;\n",
       "    }\n",
       "</style>\n",
       "<table border=\"1\" class=\"dataframe\">\n",
       "  <thead>\n",
       "    <tr style=\"text-align: right;\">\n",
       "      <th></th>\n",
       "      <th>ticker</th>\n",
       "      <th>date_added</th>\n",
       "      <th>date_removed</th>\n",
       "    </tr>\n",
       "  </thead>\n",
       "  <tbody>\n",
       "    <tr>\n",
       "      <th>0</th>\n",
       "      <td>AA</td>\n",
       "      <td>NaT</td>\n",
       "      <td>2016-11-01</td>\n",
       "    </tr>\n",
       "    <tr>\n",
       "      <th>1</th>\n",
       "      <td>AAL</td>\n",
       "      <td>2015-03-23</td>\n",
       "      <td>NaT</td>\n",
       "    </tr>\n",
       "    <tr>\n",
       "      <th>2</th>\n",
       "      <td>AAP</td>\n",
       "      <td>2015-07-08</td>\n",
       "      <td>2023-08-25</td>\n",
       "    </tr>\n",
       "    <tr>\n",
       "      <th>3</th>\n",
       "      <td>ABBV</td>\n",
       "      <td>2013-01-02</td>\n",
       "      <td>NaT</td>\n",
       "    </tr>\n",
       "    <tr>\n",
       "      <th>4</th>\n",
       "      <td>ABK</td>\n",
       "      <td>2000-12-05</td>\n",
       "      <td>2008-06-10</td>\n",
       "    </tr>\n",
       "  </tbody>\n",
       "</table>\n",
       "</div>"
      ],
      "text/plain": [
       "  ticker date_added date_removed\n",
       "0     AA        NaT   2016-11-01\n",
       "1    AAL 2015-03-23          NaT\n",
       "2    AAP 2015-07-08   2023-08-25\n",
       "3   ABBV 2013-01-02          NaT\n",
       "4    ABK 2000-12-05   2008-06-10"
      ]
     },
     "execution_count": 103,
     "metadata": {},
     "output_type": "execute_result"
    }
   ],
   "source": [
    "all_tickers = add_dates.merge(rmv_dates, on = 'ticker', how = 'outer')[['ticker', 'date_added', 'date_removed']]\n",
    "all_tickers.head()\n"
   ]
  },
  {
   "cell_type": "code",
   "execution_count": 104,
   "metadata": {},
   "outputs": [
    {
     "data": {
      "text/html": [
       "<div>\n",
       "<style scoped>\n",
       "    .dataframe tbody tr th:only-of-type {\n",
       "        vertical-align: middle;\n",
       "    }\n",
       "\n",
       "    .dataframe tbody tr th {\n",
       "        vertical-align: top;\n",
       "    }\n",
       "\n",
       "    .dataframe thead th {\n",
       "        text-align: right;\n",
       "    }\n",
       "</style>\n",
       "<table border=\"1\" class=\"dataframe\">\n",
       "  <thead>\n",
       "    <tr style=\"text-align: right;\">\n",
       "      <th></th>\n",
       "      <th>ticker</th>\n",
       "      <th>date_added</th>\n",
       "      <th>currently_listed</th>\n",
       "    </tr>\n",
       "  </thead>\n",
       "  <tbody>\n",
       "    <tr>\n",
       "      <th>0</th>\n",
       "      <td>A</td>\n",
       "      <td>2000-06-05</td>\n",
       "      <td>True</td>\n",
       "    </tr>\n",
       "    <tr>\n",
       "      <th>1</th>\n",
       "      <td>AAL</td>\n",
       "      <td>2015-03-23</td>\n",
       "      <td>True</td>\n",
       "    </tr>\n",
       "    <tr>\n",
       "      <th>2</th>\n",
       "      <td>AAPL</td>\n",
       "      <td>1982-11-30</td>\n",
       "      <td>True</td>\n",
       "    </tr>\n",
       "    <tr>\n",
       "      <th>3</th>\n",
       "      <td>ABBV</td>\n",
       "      <td>2012-12-31</td>\n",
       "      <td>True</td>\n",
       "    </tr>\n",
       "    <tr>\n",
       "      <th>4</th>\n",
       "      <td>ABNB</td>\n",
       "      <td>2023-09-18</td>\n",
       "      <td>True</td>\n",
       "    </tr>\n",
       "  </tbody>\n",
       "</table>\n",
       "</div>"
      ],
      "text/plain": [
       "  ticker date_added  currently_listed\n",
       "0      A 2000-06-05              True\n",
       "1    AAL 2015-03-23              True\n",
       "2   AAPL 1982-11-30              True\n",
       "3   ABBV 2012-12-31              True\n",
       "4   ABNB 2023-09-18              True"
      ]
     },
     "execution_count": 104,
     "metadata": {},
     "output_type": "execute_result"
    }
   ],
   "source": [
    "base.head()"
   ]
  },
  {
   "cell_type": "code",
   "execution_count": 115,
   "metadata": {},
   "outputs": [
    {
     "name": "stderr",
     "output_type": "stream",
     "text": [
      "C:\\Users\\1saml\\AppData\\Local\\Temp\\ipykernel_25572\\270321099.py:2: FutureWarning: Downcasting object dtype arrays on .fillna, .ffill, .bfill is deprecated and will change in a future version. Call result.infer_objects(copy=False) instead. To opt-in to the future behavior, set `pd.set_option('future.no_silent_downcasting', True)`\n",
      "  tickers_total['currently_listed'] = tickers_total['currently_listed'].fillna(False)\n"
     ]
    },
    {
     "data": {
      "text/html": [
       "<div>\n",
       "<style scoped>\n",
       "    .dataframe tbody tr th:only-of-type {\n",
       "        vertical-align: middle;\n",
       "    }\n",
       "\n",
       "    .dataframe tbody tr th {\n",
       "        vertical-align: top;\n",
       "    }\n",
       "\n",
       "    .dataframe thead th {\n",
       "        text-align: right;\n",
       "    }\n",
       "</style>\n",
       "<table border=\"1\" class=\"dataframe\">\n",
       "  <thead>\n",
       "    <tr style=\"text-align: right;\">\n",
       "      <th></th>\n",
       "      <th>ticker_id</th>\n",
       "      <th>ticker</th>\n",
       "      <th>date_added</th>\n",
       "      <th>date_removed</th>\n",
       "      <th>currently_listed</th>\n",
       "    </tr>\n",
       "  </thead>\n",
       "  <tbody>\n",
       "    <tr>\n",
       "      <th>0</th>\n",
       "      <td>10000</td>\n",
       "      <td>AA</td>\n",
       "      <td>1957-01-01</td>\n",
       "      <td>2016-11-01</td>\n",
       "      <td>False</td>\n",
       "    </tr>\n",
       "    <tr>\n",
       "      <th>1</th>\n",
       "      <td>10001</td>\n",
       "      <td>ABS</td>\n",
       "      <td>1957-01-01</td>\n",
       "      <td>2006-06-02</td>\n",
       "      <td>False</td>\n",
       "    </tr>\n",
       "    <tr>\n",
       "      <th>2</th>\n",
       "      <td>10002</td>\n",
       "      <td>ACAS</td>\n",
       "      <td>1957-01-01</td>\n",
       "      <td>2009-03-03</td>\n",
       "      <td>False</td>\n",
       "    </tr>\n",
       "    <tr>\n",
       "      <th>3</th>\n",
       "      <td>10003</td>\n",
       "      <td>ACE</td>\n",
       "      <td>1957-01-01</td>\n",
       "      <td>2016-01-19</td>\n",
       "      <td>False</td>\n",
       "    </tr>\n",
       "    <tr>\n",
       "      <th>4</th>\n",
       "      <td>10004</td>\n",
       "      <td>AET</td>\n",
       "      <td>1957-01-01</td>\n",
       "      <td>2018-12-03</td>\n",
       "      <td>False</td>\n",
       "    </tr>\n",
       "    <tr>\n",
       "      <th>5</th>\n",
       "      <td>10005</td>\n",
       "      <td>AIV</td>\n",
       "      <td>1957-01-01</td>\n",
       "      <td>2020-12-21</td>\n",
       "      <td>False</td>\n",
       "    </tr>\n",
       "    <tr>\n",
       "      <th>6</th>\n",
       "      <td>10006</td>\n",
       "      <td>ALTR</td>\n",
       "      <td>1957-01-01</td>\n",
       "      <td>2015-12-29</td>\n",
       "      <td>False</td>\n",
       "    </tr>\n",
       "    <tr>\n",
       "      <th>7</th>\n",
       "      <td>10007</td>\n",
       "      <td>AN</td>\n",
       "      <td>1957-01-01</td>\n",
       "      <td>2017-08-08</td>\n",
       "      <td>False</td>\n",
       "    </tr>\n",
       "    <tr>\n",
       "      <th>8</th>\n",
       "      <td>10008</td>\n",
       "      <td>ANDV</td>\n",
       "      <td>1957-01-01</td>\n",
       "      <td>2018-10-01</td>\n",
       "      <td>False</td>\n",
       "    </tr>\n",
       "    <tr>\n",
       "      <th>9</th>\n",
       "      <td>10009</td>\n",
       "      <td>ANF</td>\n",
       "      <td>1957-01-01</td>\n",
       "      <td>2013-12-23</td>\n",
       "      <td>False</td>\n",
       "    </tr>\n",
       "  </tbody>\n",
       "</table>\n",
       "</div>"
      ],
      "text/plain": [
       "   ticker_id ticker date_added date_removed  currently_listed\n",
       "0      10000     AA 1957-01-01   2016-11-01             False\n",
       "1      10001    ABS 1957-01-01   2006-06-02             False\n",
       "2      10002   ACAS 1957-01-01   2009-03-03             False\n",
       "3      10003    ACE 1957-01-01   2016-01-19             False\n",
       "4      10004    AET 1957-01-01   2018-12-03             False\n",
       "5      10005    AIV 1957-01-01   2020-12-21             False\n",
       "6      10006   ALTR 1957-01-01   2015-12-29             False\n",
       "7      10007     AN 1957-01-01   2017-08-08             False\n",
       "8      10008   ANDV 1957-01-01   2018-10-01             False\n",
       "9      10009    ANF 1957-01-01   2013-12-23             False"
      ]
     },
     "execution_count": 115,
     "metadata": {},
     "output_type": "execute_result"
    }
   ],
   "source": [
    "tickers_total = base.merge(all_tickers, on = ['ticker', 'date_added'], how = 'outer')\n",
    "tickers_total['currently_listed'] = tickers_total['currently_listed'].fillna(False)\n",
    "#Classify anything without a date added as 1957-01-01\n",
    "tickers_total['date_added'] = [pd.to_datetime('1957-01-01') if pd.isnull(d) == True else d for d in tickers_total['date_added']]\n",
    "tickers_total = tickers_total.sort_values(by = ['date_added', 'ticker']).reset_index(drop = True)\n",
    "#Create an int ticker_id that will be used as a primary key for tickers\n",
    "tickers_total['ticker_id'] = [i + 10000 for i in tickers_total.index]\n",
    "\n",
    "col_order = [\n",
    "    'ticker_id', 'ticker', 'date_added', 'date_removed', 'currently_listed'\n",
    "]\n",
    "tickers_total = tickers_total[col_order]\n",
    "\n",
    "conn = os.getenv('STOCK_DB_CONN')\n",
    "engine = create_engine(conn)\n",
    "tickers_total.to_sql(name = 's_and_p_500_history', con = engine, schema = 'NASDAQ', if_exists= 'replace', index = False, method = 'multi')\n",
    "\n",
    "\n",
    "tickers_total.head(10)"
   ]
  },
  {
   "cell_type": "code",
   "execution_count": 108,
   "metadata": {},
   "outputs": [
    {
     "data": {
      "text/plain": [
       "ticker                      object\n",
       "date_added          datetime64[ns]\n",
       "currently_listed              bool\n",
       "date_removed        datetime64[ns]\n",
       "ticker_id                    int64\n",
       "dtype: object"
      ]
     },
     "execution_count": 108,
     "metadata": {},
     "output_type": "execute_result"
    }
   ],
   "source": [
    "tickers_total.dtypes"
   ]
  },
  {
   "cell_type": "code",
   "execution_count": 114,
   "metadata": {},
   "outputs": [
    {
     "data": {
      "text/plain": [
       "344"
      ]
     },
     "execution_count": 114,
     "metadata": {},
     "output_type": "execute_result"
    }
   ],
   "source": []
  },
  {
   "cell_type": "code",
   "execution_count": null,
   "metadata": {},
   "outputs": [],
   "source": []
  }
 ],
 "metadata": {
  "kernelspec": {
   "display_name": "post-y2k-stock-performance",
   "language": "python",
   "name": "python3"
  },
  "language_info": {
   "codemirror_mode": {
    "name": "ipython",
    "version": 3
   },
   "file_extension": ".py",
   "mimetype": "text/x-python",
   "name": "python",
   "nbconvert_exporter": "python",
   "pygments_lexer": "ipython3",
   "version": "3.10.11"
  }
 },
 "nbformat": 4,
 "nbformat_minor": 2
}
